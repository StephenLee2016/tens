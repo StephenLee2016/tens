{
 "cells": [
  {
   "cell_type": "code",
   "execution_count": 7,
   "metadata": {
    "collapsed": true
   },
   "outputs": [
    {
     "name": "stdout",
     "output_type": "stream",
     "text": [
      "Extracting MNIST_data/train-images-idx3-ubyte.gz\n"
     ]
    },
    {
     "name": "stdout",
     "output_type": "stream",
     "text": [
      "Extracting MNIST_data/train-labels-idx1-ubyte.gz\nExtracting MNIST_data/t10k-images-idx3-ubyte.gz\nExtracting MNIST_data/t10k-labels-idx1-ubyte.gz\n"
     ]
    }
   ],
   "source": [
    "import numpy as np\n",
    "import tensorflow as tf\n",
    "\n",
    "# Import MNIST data\n",
    "from tensorflow.examples.tutorials.mnist import input_data \n",
    "mnist = input_data.read_data_sets(\"MNIST_data/\", one_hot=True)"
   ]
  },
  {
   "cell_type": "code",
   "execution_count": 8,
   "metadata": {},
   "outputs": [],
   "source": [
    "# In this example, we limit mnist data\n",
    "Xtr, Ytr = mnist.train.next_batch(5000)\n",
    "Xte, Yte = mnist.test.next_batch(200)\n",
    "\n",
    "# tf Graph Input\n",
    "xtr = tf.placeholder(\"float\", [None, 784])\n",
    "xte = tf.placeholder('float',[784])\n",
    "\n",
    "# Nearest Neighbor calculation using L1 Distance\n",
    "# Calculate L1 Distance\n",
    "distance = tf.reduce_sum(tf.abs(tf.add(xtr, tf.negative(xte))), reduction_indices=1)\n",
    "# Prediction: Get min distance index (Nearest neighbor)\n",
    "pred = tf.arg_min(distance, 0)\n",
    "\n",
    "accuracy = 0\n",
    "\n",
    "# Initializing the variables\n",
    "init = tf.global_variables_initializer()"
   ]
  },
  {
   "cell_type": "code",
   "execution_count": 9,
   "metadata": {},
   "outputs": [
    {
     "name": "stdout",
     "output_type": "stream",
     "text": [
      "Test 0 Prediction: 4 True Class: 4\nTest 1 Prediction: 1 True Class: 1\nTest 2 Prediction: 2 True Class: 2\nTest 3 Prediction: 9 True Class: 9\nTest 4 Prediction: 5 True Class: 8\nTest 5 Prediction: 7 True Class: 7\nTest 6 Prediction: 0 True Class: 0\n"
     ]
    },
    {
     "name": "stdout",
     "output_type": "stream",
     "text": [
      "Test 7 Prediction: 5 True Class: 8\nTest 8 Prediction: 6 True Class: 5\nTest 9 Prediction: 1 True Class: 1\nTest 10 Prediction: 5 True Class: 9\nTest 11 Prediction: 6 True Class: 6\nTest 12 Prediction: 5 True Class: 5\nTest 13 Prediction: 8 True Class: 8\nTest 14 Prediction: 8 True Class: 8\n"
     ]
    },
    {
     "name": "stdout",
     "output_type": "stream",
     "text": [
      "Test 15 Prediction: 9 True Class: 9\nTest 16 Prediction: 2 True Class: 2\nTest 17 Prediction: 1 True Class: 1\nTest 18 Prediction: 8 True Class: 8\nTest 19 Prediction: 0 True Class: 0\nTest 20 Prediction: 0 True Class: 0\nTest 21 Prediction: 6 True Class: 6\nTest 22 Prediction: 1 True Class: 1\n"
     ]
    },
    {
     "name": "stdout",
     "output_type": "stream",
     "text": [
      "Test 23 Prediction: 2 True Class: 2\nTest 24 Prediction: 6 True Class: 6\nTest 25 Prediction: 5 True Class: 5\nTest 26 Prediction: 9 True Class: 9\nTest 27 Prediction: 3 True Class: 3\nTest 28 Prediction: 4 True Class: 4\nTest 29 Prediction: 9 True Class: 9\nTest 30 Prediction: 3 True Class: 3\n"
     ]
    },
    {
     "name": "stdout",
     "output_type": "stream",
     "text": [
      "Test 31 Prediction: 5 True Class: 5\nTest 32 Prediction: 1 True Class: 1\nTest 33 Prediction: 6 True Class: 6\nTest 34 Prediction: 4 True Class: 4\nTest 35 Prediction: 3 True Class: 3\nTest 36 Prediction: 6 True Class: 6\nTest 37 Prediction: 9 True Class: 8\nTest"
     ]
    },
    {
     "name": "stdout",
     "output_type": "stream",
     "text": [
      " 38 Prediction: 3 True Class: 3\nTest 39 Prediction: 4 True Class: 4\nTest 40 Prediction: 1 True Class: 2\nTest 41 Prediction: 6 True Class: 6\nTest 42 Prediction: 1 True Class: 1\nTest 43 Prediction: 8 True Class: 8\nTest 44 Prediction: 9 True Class: 9\nTest 45 Prediction: 7 True Class: 7\nTest 46 Prediction: 0 True Class: 0\n"
     ]
    },
    {
     "name": "stdout",
     "output_type": "stream",
     "text": [
      "Test 47 Prediction: 0 True Class: 0\nTest 48 Prediction: 9 True Class: 9\nTest 49 Prediction: 2 True Class: 2\nTest 50 Prediction: 3 True Class: 3\nTest 51 Prediction: 0 True Class: 0\nTest 52 Prediction: 9 True Class: 9\nTest 53 Prediction: 6 True Class: 6\nTest 54 Prediction: 3 True Class: 3\n"
     ]
    },
    {
     "name": "stdout",
     "output_type": "stream",
     "text": [
      "Test 55 Prediction: 0 True Class: 0\nTest 56 Prediction: 4 True Class: 4\nTest 57 Prediction: 1 True Class: 1\nTest 58 Prediction: 6 True Class: 6\nTest 59 Prediction: 0 True Class: 0\nTest 60 Prediction: 6 True Class: 0\nTest 61 Prediction: 1 True Class: 1\nTest 62 Prediction: 4 True Class: 4\n"
     ]
    },
    {
     "name": "stdout",
     "output_type": "stream",
     "text": [
      "Test 63 Prediction: 1 True Class: 1\nTest 64 Prediction: 1 True Class: 1\nTest 65 Prediction: 6 True Class: 6\nTest 66 Prediction: 1 True Class: 1\nTest 67 Prediction: 9 True Class: 5\nTest 68 Prediction: 1 True Class: 1\nTest 69 Prediction: 9 True Class: 9\nTest 70 Prediction: 4"
     ]
    },
    {
     "name": "stdout",
     "output_type": "stream",
     "text": [
      " True Class: 4\nTest 71 Prediction: 2 True Class: 8\nTest 72 Prediction: 9 True Class: 7\nTest 73 Prediction: 7 True Class: 7\nTest 74 Prediction: 1 True Class: 1\nTest 75 Prediction: 1 True Class: 1\nTest 76 Prediction: 7 True Class: 7\nTest 77 Prediction: 3 True Class: 5\nTest 78 Prediction: 0 True Class: 0\nTest"
     ]
    },
    {
     "name": "stdout",
     "output_type": "stream",
     "text": [
      " 79 Prediction: 0 True Class: 0\nTest 80 Prediction: 6 True Class: 6\nTest 81 Prediction: 4 True Class: 4\nTest 82 Prediction: 9 True Class: 9\nTest 83 Prediction: 2 True Class: 2\nTest 84 Prediction: 2 True Class: 2\nTest 85 Prediction: 6 True Class: 6\nTest 86 Prediction: 5 True Class: 5\nTest 87 Prediction: 1 True Class: 1\nTest"
     ]
    },
    {
     "name": "stdout",
     "output_type": "stream",
     "text": [
      " 88 Prediction: 4 True Class: 4\nTest 89 Prediction: 6 True Class: 6\nTest 90 Prediction: 3 True Class: 3\nTest 91 Prediction: 3 True Class: 3\nTest 92 Prediction: 5 True Class: 5\nTest 93 Prediction: 0 True Class: 0\nTest 94 Prediction: 1 True Class: 1\nTest 95 Prediction: 1 True Class: 1\nTest 96 Prediction: 2 True Class: 2\nTest 97 Prediction: 2 True Class: 2\n"
     ]
    },
    {
     "name": "stdout",
     "output_type": "stream",
     "text": [
      "Test 98 Prediction: 7 True Class: 7\nTest 99 Prediction: 5 True Class: 5\nTest 100 Prediction: 0 True Class: 0\nTest 101 Prediction: 5 True Class: 5\nTest 102 Prediction: 7 True Class: 3\nTest 103 Prediction: 1 True Class: 9\nTest 104 Prediction: 7 True Class: 7\nTest 105 Prediction: 6 True Class: 6\n"
     ]
    },
    {
     "name": "stdout",
     "output_type": "stream",
     "text": [
      "Test 106 Prediction: 9 True Class: 4\nTest 107 Prediction: 1 True Class: 5\nTest 108 Prediction: 9 True Class: 4\nTest 109 Prediction: 6 True Class: 6\nTest 110 Prediction: 3 True Class: 8\nTest 111 Prediction: 9 True Class: 9\nTest 112 Prediction: 6 True Class: 6\nTest 113 Prediction: 0 True Class: 0\nTest"
     ]
    },
    {
     "name": "stdout",
     "output_type": "stream",
     "text": [
      " 114 Prediction: 7 True Class: 7\nTest 115 Prediction: 8 True Class: 8\nTest 116 Prediction: 7 True Class: 7\nTest 117 Prediction: 4 True Class: 4\nTest 118 Prediction: 2 True Class: 2\nTest 119 Prediction: 6 True Class: 6\nTest 120 Prediction: 6 True Class: 6\nTest 121 Prediction: 5 True Class: 5\nTest 122 Prediction: 0 True Class: 0\nTest"
     ]
    },
    {
     "name": "stdout",
     "output_type": "stream",
     "text": [
      " 123 Prediction: 7 True Class: 7\nTest 124 Prediction: 2 True Class: 2\nTest 125 Prediction: 6 True Class: 8\nTest 126 Prediction: 3 True Class: 3\nTest 127 Prediction: 0 True Class: 0\nTest 128 Prediction: 5 True Class: 5\nTest 129 Prediction: 3 True Class: 3\nTest 130 Prediction: 8 True Class: 8\nTest 131 Prediction: 1 True Class: 1\n"
     ]
    },
    {
     "name": "stdout",
     "output_type": "stream",
     "text": [
      "Test 132 Prediction: 6 True Class: 6\nTest 133 Prediction: 1 True Class: 1\nTest 134 Prediction: 6 True Class: 6\nTest 135 Prediction: 6 True Class: 6\nTest 136 Prediction: 4 True Class: 4\nTest 137 Prediction: 9 True Class: 9\nTest 138 Prediction: 5 True Class: 5\nTest 139 Prediction: 8 True Class: 8\n"
     ]
    },
    {
     "name": "stdout",
     "output_type": "stream",
     "text": [
      "Test 140 Prediction: 9 True Class: 9\nTest 141 Prediction: 8 True Class: 8\nTest 142 Prediction: 4 True Class: 4\nTest 143 Prediction: 6 True Class: 6\nTest 144 Prediction: 0 True Class: 0\nTest 145 Prediction: 3 True Class: 3\nTest 146 Prediction: 8 True Class: 8\nTest 147 Prediction: 5 True Class: 5\nTest"
     ]
    },
    {
     "name": "stdout",
     "output_type": "stream",
     "text": [
      " 148 Prediction: 2 True Class: 2\nTest 149 Prediction: 7 True Class: 7\nTest 150 Prediction: 5 True Class: 5\nTest 151 Prediction: 3 True Class: 3\nTest 152 Prediction: 6 True Class: 6\nTest 153 Prediction: 6 True Class: 6\nTest 154 Prediction: 8 True Class: 8\nTest 155 Prediction: 4 True Class: 4\n"
     ]
    },
    {
     "name": "stdout",
     "output_type": "stream",
     "text": [
      "Test 156 Prediction: 6 True Class: 6\nTest 157 Prediction: 1 True Class: 1\nTest 158 Prediction: 0 True Class: 0\nTest 159 Prediction: 6 True Class: 6\nTest 160 Prediction: 6 True Class: 6\nTest 161 Prediction: 2 True Class: 2\nTest 162 Prediction: 7 True Class: 7\nTest 163 Prediction: 9 True Class: 7\nTest"
     ]
    },
    {
     "name": "stdout",
     "output_type": "stream",
     "text": [
      " 164 Prediction: 2 True Class: 2\nTest 165 Prediction: 0 True Class: 0\nTest 166 Prediction: 2 True Class: 2\nTest 167 Prediction: 6 True Class: 6\nTest 168 Prediction: 7 True Class: 7\nTest 169 Prediction: 0 True Class: 0\nTest 170 Prediction: 8 True Class: 8\nTest 171 Prediction: 1 True Class: 2\nTest 172 Prediction: 8 True Class: 8\nTest 173 Prediction: 6 True Class: 6\n"
     ]
    },
    {
     "name": "stdout",
     "output_type": "stream",
     "text": [
      "Test 174 Prediction: 7 True Class: 7\nTest 175 Prediction: 3 True Class: 3\nTest 176 Prediction: 3 True Class: 3\nTest 177 Prediction: 6 True Class: 6\nTest 178 Prediction: 1 True Class: 1\nTest 179 Prediction: 5 True Class: 5\nTest 180 Prediction: 0 True Class: 0\nTest 181 Prediction: 4 True Class: 4\nTest 182 Prediction: 9 True Class: 9\n"
     ]
    },
    {
     "name": "stdout",
     "output_type": "stream",
     "text": [
      "Test 183 Prediction: 6 True Class: 6\nTest 184 Prediction: 5 True Class: 5\nTest 185 Prediction: 2 True Class: 2\nTest 186 Prediction: 6 True Class: 6\nTest 187 Prediction: 1 True Class: 1\nTest 188 Prediction: 1 True Class: 6\nTest"
     ]
    },
    {
     "name": "stdout",
     "output_type": "stream",
     "text": [
      " 189 Prediction: 3 True Class: 3\nTest 190 Prediction: 6 True Class: 6\nTest 191 Prediction: 9 True Class: 9\nTest 192 Prediction: 2 True Class: 2\nTest 193 Prediction: 4 True Class: 4\nTest"
     ]
    },
    {
     "name": "stdout",
     "output_type": "stream",
     "text": [
      " 194 Prediction: 2 True Class: 2\nTest 195 Prediction: 2 True Class: 2\nTest 196 Prediction: 3 True Class: 3\nTest 197 Prediction: 2 True Class: 2\nTest 198 Prediction: 0 True Class: 5\nTest 199 Prediction: 7 True Class: 7\nDone!\nAccuracy: 0.8900000000000007\n"
     ]
    }
   ],
   "source": [
    "# Launch the graph\n",
    "with tf.Session() as sess:\n",
    "    sess.run(init)\n",
    "    \n",
    "    # loop over test data\n",
    "    for i in range(len(Xte)):\n",
    "        # Get nearest neighbor\n",
    "        nn_index = sess.run(pred, feed_dict={xtr: Xtr, xte: Xte[i,:]})\n",
    "        # Get nearest neighbor class label and compare it to ite true label\n",
    "        print (\"Test\", i, \"Prediction:\", np.argmax(Ytr[nn_index]),\\\n",
    "               \"True Class:\", np.argmax(Yte[i]))\n",
    "        \n",
    "        # Calculate accuracy\n",
    "        if np.argmax(Ytr[nn_index]) == np.argmax(Yte[i]):\n",
    "            accuracy += 1 / len(Xte)\n",
    "            \n",
    "    print (\"Done!\")\n",
    "    print (\"Accuracy:\", accuracy)"
   ]
  },
  {
   "cell_type": "code",
   "execution_count": null,
   "metadata": {},
   "outputs": [],
   "source": [
    ""
   ]
  }
 ],
 "metadata": {
  "kernelspec": {
   "display_name": "Python 2",
   "language": "python",
   "name": "python2"
  },
  "language_info": {
   "codemirror_mode": {
    "name": "ipython",
    "version": 2.0
   },
   "file_extension": ".py",
   "mimetype": "text/x-python",
   "name": "python",
   "nbconvert_exporter": "python",
   "pygments_lexer": "ipython2",
   "version": "2.7.6"
  }
 },
 "nbformat": 4,
 "nbformat_minor": 0
}